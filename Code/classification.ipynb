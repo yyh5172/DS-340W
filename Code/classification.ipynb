{
 "cells": [
  {
   "cell_type": "code",
   "execution_count": 5,
   "id": "7a57390e-5efa-49a3-93ef-7ce03a0098d8",
   "metadata": {},
   "outputs": [
    {
     "name": "stderr",
     "output_type": "stream",
     "text": [
      "C:\\Users\\yiwen\\AppData\\Local\\Temp\\ipykernel_8460\\1447856165.py:1: DeprecationWarning: \n",
      "Pyarrow will become a required dependency of pandas in the next major release of pandas (pandas 3.0),\n",
      "(to allow more performant data types, such as the Arrow string type, and better interoperability with other libraries)\n",
      "but was not found to be installed on your system.\n",
      "If this would cause problems for you,\n",
      "please provide us feedback at https://github.com/pandas-dev/pandas/issues/54466\n",
      "        \n",
      "  import pandas as pd\n"
     ]
    }
   ],
   "source": [
    "import pandas as pd\n",
    "import matplotlib.pyplot as plt\n",
    "import operator\n",
    "\n",
    "from sklearn.model_selection import train_test_split\n",
    "from sklearn.linear_model import LogisticRegression\n",
    "from sklearn.metrics import confusion_matrix\n",
    "from sklearn.preprocessing import StandardScaler\n",
    "from sklearn import metrics\n",
    "from sklearn.ensemble import RandomForestClassifier\n",
    "from sklearn.svm import SVC\n",
    "import xgboost as xgb"
   ]
  },
  {
   "cell_type": "code",
   "execution_count": 16,
   "id": "efc318d3-bad9-4362-99a9-dc99d6bbbd70",
   "metadata": {},
   "outputs": [
    {
     "name": "stdout",
     "output_type": "stream",
     "text": [
      "fake\n",
      "0    1927\n",
      "1    1400\n",
      "Name: count, dtype: int64\n"
     ]
    }
   ],
   "source": [
    "# datasets\n",
    "df = pd.read_csv('../data/product_level_data_with_img_feats.csv.gz')\n",
    "df_text = pd.read_csv('../data/product_level_data_text_feats.csv.gz')\n",
    "\n",
    "print(df[\"fake\"].value_counts())"
   ]
  },
  {
   "cell_type": "code",
   "execution_count": 3,
   "id": "3fbd51a8-7b6e-4d72-badf-6d0aa01cdcb8",
   "metadata": {},
   "outputs": [],
   "source": [
    "# features\n",
    "review_features = ['tfidf_review_body', 'n_of_reviews','avg_review_rating',\n",
    "                   'avg_days_between_reviews', 'stdev_days_between_reviews',\n",
    "                   'max_days_between_reviews', 'min_days_between_reviews', \n",
    "                   'share_helpful_reviews', 'share_1star', 'share_5star', 'share_photo', 'std_review_len']\n",
    "network_features = ['pagerank', 'w_degree', 'clustering_coef', 'eigenvector_cent']\n",
    "image_sim_features = ['min_sim', 'max_sim', 'mean_sim', 'std_sim', 'min_sim_review', 'max_sim_review',\n",
    "       'mean_sim_review', 'std_sim_review', 'min_sim_product',\n",
    "       'max_sim_product', 'mean_sim_product', 'std_sim_product']"
   ]
  },
  {
   "cell_type": "code",
   "execution_count": 10,
   "id": "b2a61cae-a9b4-4023-8d06-18ee5fb744e0",
   "metadata": {},
   "outputs": [],
   "source": [
    "# correlation matrix\n",
    "# corr_table = df[review_features + network_features + image_sim_features].corr()\n",
    "# corr_table.to_csv(path + 'Amazon Review Data/corr_table.csv')"
   ]
  },
  {
   "cell_type": "code",
   "execution_count": 11,
   "id": "ebcca380-ce61-43f1-a2ef-015448b968fa",
   "metadata": {},
   "outputs": [],
   "source": [
    "def model_building(X_train, y_train, X_test, y_test, model):\n",
    "\n",
    "\tmodel.fit(X_train, y_train)\n",
    "\n",
    "\ty_pred = model.predict(X_test)\n",
    "\tcm = confusion_matrix(y_test, y_pred, labels=model.classes_)\n",
    "\tprobs = model.predict_proba(X_test)[:,1]\n",
    "\n",
    "\t# print(cm)\n",
    "\tprint(\"AUC, Accuracy, TN, TP, F1 Score\")\n",
    "\tprint(\"{}, {}, {}, {}, {}\".format(metrics.roc_auc_score(y_test, model.predict_proba(X_test)[:,1]),\n",
    "\t\t\t\t\t\t\t\t\t\t\t\t\t\t\t  sum(cm.diagonal()) / X_test.shape[0],\n",
    "\t\t\t\t\t\t\t\t\t\t\t\t\t\t\t  cm[0,0] / sum(cm[0,:]),\n",
    "\t\t\t\t\t\t\t\t\t\t\t\t\t\t\t  cm[1,1] / sum(cm[1,:]),\n",
    "\t\t\t\t\t\t\t\t\t\t\t\t\t\t\t  metrics.f1_score(y_test, y_pred, average='weighted')))\n",
    "\n",
    "\treturn probs"
   ]
  },
  {
   "cell_type": "code",
   "execution_count": 12,
   "id": "d00ed7bb-f00c-4220-8f83-d698bf57c2bd",
   "metadata": {},
   "outputs": [],
   "source": [
    "def classification_results(df, features=None, stars=None):\n",
    "\n",
    "\tif features == None:\n",
    "\t\tX = df.drop(['product_ID','fake'], axis=1)\n",
    "\t\tfeatures = list(X.columns)\n",
    "\t\ty = df['fake']\n",
    "\telse:\n",
    "\t\tX = df[features]\n",
    "\t\ty = df['fake']\n",
    "\n",
    "\tX_train, X_test, y_train, y_test = train_test_split(X, y, test_size=0.20, random_state=42)\n",
    "\tprint(X_train.shape, X_test.shape)\n",
    "\n",
    "\tscaler = StandardScaler()\n",
    "\tX_train = scaler.fit_transform(X_train)\n",
    "\tX_test = scaler.transform(X_test)\n",
    "\n",
    "\tprint(\"=\"*10 + \"Logistic Regression\" + \"=\"*10)\n",
    "\tmodel = LogisticRegression(max_iter=400)\n",
    "\tmodel_building(X_train, y_train, X_test, y_test, model)\n",
    "\n",
    "\tprint(\"=\"*10 + \"Random Forest\" + \"=\"*10)\n",
    "\tmodel = RandomForestClassifier(random_state=42, \n",
    "\t                               n_estimators=100,\n",
    "\t                               min_samples_leaf=3,\n",
    "\t                               min_samples_split=6,\n",
    "\t                               max_features='sqrt',\n",
    "\t                               max_depth=40,\n",
    "\t                               bootstrap=True,\n",
    "\t                               n_jobs=-1)\n",
    "\tmodel_building(X_train, y_train, X_test, y_test, model)\n",
    "\n",
    "\tprint(\"=\"*10 + \"RF Feature Importance\" + \"=\"*10)\n",
    "\timps = model.feature_importances_\n",
    "\tfeat_imp = {features[i]: imps[i] for i in range(len(features))}\n",
    "\t\n",
    "\tif len(features) > 100:\n",
    "\t\tprint(sorted(feat_imp.items(), key=operator.itemgetter(1), reverse=True)[:50])\n",
    "\telse:\n",
    "\t\tprint(sorted(feat_imp.items(), key=operator.itemgetter(1), reverse=True))\n",
    "\n",
    "\tprint(\"=\"*10 + \"SVC Linear\" + \"=\"*10)\n",
    "\tmodel = SVC(kernel='linear', probability=True)\n",
    "\tmodel_building(X_train, y_train, X_test, y_test, model)\n",
    "\n",
    "\tprint(\"=\"*10 + \"XGBoost\" + \"=\"*10)\n",
    "\tmodel = xgb.XGBClassifier()\n",
    "\tmodel_building(X_train, y_train, X_test, y_test, model)\n",
    "\n",
    "\treturn"
   ]
  },
  {
   "cell_type": "code",
   "execution_count": 14,
   "id": "c2cc3ebe-b689-4822-b16c-acf2df857cbf",
   "metadata": {},
   "outputs": [
    {
     "name": "stdout",
     "output_type": "stream",
     "text": [
      "\n",
      "+++++++++++++++++ Review Features ++++++++++++++++\n",
      "(2661, 12) (666, 12)\n",
      "==========Logistic Regression==========\n",
      "AUC, Accuracy, TN, TP, F1 Score\n",
      "0.8381394920868607, 0.7852852852852853, 0.8447368421052631, 0.7062937062937062, 0.7837976660156704\n",
      "==========Random Forest==========\n",
      "AUC, Accuracy, TN, TP, F1 Score\n",
      "0.873997055576003, 0.8108108108108109, 0.8578947368421053, 0.7482517482517482, 0.8099259041135368\n",
      "==========RF Feature Importance==========\n",
      "[('share_photo', 0.20188266872719235), ('max_days_between_reviews', 0.12459007267055033), ('n_of_reviews', 0.11969581754798014), ('share_5star', 0.09614349095760143), ('avg_days_between_reviews', 0.09051123243506502), ('stdev_days_between_reviews', 0.0793914781735086), ('tfidf_review_body', 0.07305978614888074), ('avg_review_rating', 0.05466433356550596), ('std_review_len', 0.05329773632676681), ('share_helpful_reviews', 0.05276771196540719), ('share_1star', 0.049646505698017394), ('min_days_between_reviews', 0.004349165783523933)]\n",
      "==========SVC Linear==========\n",
      "AUC, Accuracy, TN, TP, F1 Score\n",
      "0.8385811556864189, 0.7867867867867868, 0.8578947368421053, 0.6923076923076923, 0.784614584713842\n",
      "==========XGBoost==========\n",
      "AUC, Accuracy, TN, TP, F1 Score\n",
      "0.8718071402281928, 0.7867867867867868, 0.8131578947368421, 0.7517482517482518, 0.7867867867867868\n"
     ]
    }
   ],
   "source": [
    "# review features\n",
    "print(\"\\n+++++++++++++++++ Review Features ++++++++++++++++\")\n",
    "classification_results(df, review_features)"
   ]
  },
  {
   "cell_type": "code",
   "execution_count": 15,
   "id": "f65a74c5-6432-4948-be43-1ac4df59c6a3",
   "metadata": {},
   "outputs": [
    {
     "name": "stdout",
     "output_type": "stream",
     "text": [
      "\n",
      "+++++++++++++++++ Image Features ++++++++++++++++\n",
      "\n",
      "(2661, 12) (666, 12)\n",
      "==========Logistic Regression==========\n",
      "AUC, Accuracy, TN, TP, F1 Score\n",
      "0.6310314685314685, 0.6171171171171171, 0.8394736842105263, 0.32167832167832167, 0.5876303289185565\n",
      "==========Random Forest==========\n",
      "AUC, Accuracy, TN, TP, F1 Score\n",
      "0.5922846889952154, 0.5990990990990991, 0.7921052631578948, 0.34265734265734266, 0.577051627055728\n",
      "==========RF Feature Importance==========\n",
      "[('min_sim_product', 0.09995597904768756), ('max_sim_product', 0.09051231460695743), ('mean_sim', 0.08532591470373589), ('std_sim_product', 0.08529751456554026), ('mean_sim_review', 0.08518236020769004), ('mean_sim_product', 0.08464118823374056), ('max_sim', 0.08053983402315099), ('max_sim_review', 0.07872105669106193), ('std_sim_review', 0.07813345029630095), ('min_sim_review', 0.07803385638269882), ('min_sim', 0.0775420051778659), ('std_sim', 0.07611452606356969)]\n",
      "==========SVC Linear==========\n",
      "AUC, Accuracy, TN, TP, F1 Score\n",
      "0.6286115200588884, 0.5930930930930931, 0.9, 0.1853146853146853, 0.5294013999556516\n",
      "==========XGBoost==========\n",
      "AUC, Accuracy, TN, TP, F1 Score\n",
      "0.5690973500184027, 0.5720720720720721, 0.7289473684210527, 0.36363636363636365, 0.5579325430012161\n"
     ]
    }
   ],
   "source": [
    "# image features\n",
    "print(\"\\n+++++++++++++++++ Image Features ++++++++++++++++\\n\")\n",
    "classification_results(df, image_sim_features)"
   ]
  },
  {
   "cell_type": "code",
   "execution_count": 16,
   "id": "9aca86ff-dab2-4971-826c-76585cb7faf0",
   "metadata": {},
   "outputs": [
    {
     "name": "stdout",
     "output_type": "stream",
     "text": [
      "\n",
      "+++++++++++++++++ Network Features ++++++++++++++++\n",
      "\n",
      "(2661, 4) (666, 4)\n",
      "==========Logistic Regression==========\n",
      "AUC, Accuracy, TN, TP, F1 Score\n",
      "0.8707443871917555, 0.8018018018018018, 0.8868421052631579, 0.6888111888111889, 0.798791120513186\n",
      "==========Random Forest==========\n",
      "AUC, Accuracy, TN, TP, F1 Score\n",
      "0.889676113360324, 0.8213213213213213, 0.8394736842105263, 0.7972027972027972, 0.8214333867495662\n",
      "==========RF Feature Importance==========\n",
      "[('clustering_coef', 0.39245346877008824), ('eigenvector_cent', 0.3113937594195792), ('w_degree', 0.15192030379870344), ('pagerank', 0.1442324680116291)]\n",
      "==========SVC Linear==========\n",
      "AUC, Accuracy, TN, TP, F1 Score\n",
      "0.8740338608759661, 0.7957957957957958, 0.9105263157894737, 0.6433566433566433, 0.7904053121444427\n",
      "==========XGBoost==========\n",
      "AUC, Accuracy, TN, TP, F1 Score\n",
      "0.8833824070666176, 0.8108108108108109, 0.8368421052631579, 0.7762237762237763, 0.810727179728423\n"
     ]
    }
   ],
   "source": [
    "# network features\n",
    "print(\"\\n+++++++++++++++++ Network Features ++++++++++++++++\\n\")\n",
    "classification_results(df, network_features)"
   ]
  },
  {
   "cell_type": "code",
   "execution_count": 17,
   "id": "74571ec1-c62d-411d-b96d-fc1ed2a4ce8f",
   "metadata": {},
   "outputs": [
    {
     "name": "stdout",
     "output_type": "stream",
     "text": [
      "\n",
      "+++++++++++++++++ Top 2 Network Features ++++++++++++++++\n",
      "\n",
      "(2661, 2) (666, 2)\n",
      "==========Logistic Regression==========\n",
      "AUC, Accuracy, TN, TP, F1 Score\n",
      "0.8552033492822967, 0.7927927927927928, 0.8736842105263158, 0.6853146853146853, 0.7900083210298238\n",
      "==========Random Forest==========\n",
      "AUC, Accuracy, TN, TP, F1 Score\n",
      "0.8785793154214208, 0.8123123123123123, 0.8315789473684211, 0.7867132867132867, 0.8124300280982839\n",
      "==========RF Feature Importance==========\n",
      "[('clustering_coef', 0.5298974477100252), ('eigenvector_cent', 0.4701025522899747)]\n",
      "==========SVC Linear==========\n",
      "AUC, Accuracy, TN, TP, F1 Score\n",
      "0.8537035333087966, 0.7987987987987988, 0.8552631578947368, 0.7237762237762237, 0.7974725433015319\n",
      "==========XGBoost==========\n",
      "AUC, Accuracy, TN, TP, F1 Score\n",
      "0.8760627530364373, 0.7987987987987988, 0.8131578947368421, 0.7797202797202797, 0.7991161741345159\n"
     ]
    }
   ],
   "source": [
    "# top-2 network features\n",
    "print(\"\\n+++++++++++++++++ Top 2 Network Features ++++++++++++++++\\n\")\n",
    "classification_results(df, ['eigenvector_cent', 'clustering_coef'])"
   ]
  },
  {
   "cell_type": "code",
   "execution_count": 18,
   "id": "f69a469b-a0ea-457f-b3e8-440a05413c7a",
   "metadata": {},
   "outputs": [
    {
     "name": "stdout",
     "output_type": "stream",
     "text": [
      "\n",
      "+++++++++++++++++ All Features ++++++++++++++++\n",
      "\n",
      "(2661, 28) (666, 28)\n",
      "==========Logistic Regression==========\n",
      "AUC, Accuracy, TN, TP, F1 Score\n",
      "0.9211998527788002, 0.8573573573573574, 0.9, 0.8006993006993007, 0.8566464404686078\n",
      "==========Random Forest==========\n",
      "AUC, Accuracy, TN, TP, F1 Score\n",
      "0.9323242546926758, 0.8603603603603603, 0.881578947368421, 0.8321678321678322, 0.8602667627191579\n",
      "==========RF Feature Importance==========\n",
      "[('clustering_coef', 0.1879437408102332), ('eigenvector_cent', 0.16538684645682974), ('share_photo', 0.074828175274938), ('w_degree', 0.06317276263907272), ('n_of_reviews', 0.055488686779396584), ('max_days_between_reviews', 0.04880606551507896), ('pagerank', 0.04562423054213299), ('share_5star', 0.04113156224691351), ('tfidf_review_body', 0.02934999801330399), ('avg_days_between_reviews', 0.026644727708062695), ('stdev_days_between_reviews', 0.02447279088382289), ('avg_review_rating', 0.02354476788096144), ('std_review_len', 0.019727533795802096), ('share_1star', 0.019483917184519358), ('share_helpful_reviews', 0.01869076592971937), ('max_sim', 0.017983982948599812), ('min_sim', 0.014355098545959654), ('max_sim_review', 0.013740388323109205), ('min_sim_review', 0.01347984613834554), ('mean_sim_product', 0.01339238422036742), ('std_sim', 0.013098308564737782), ('min_sim_product', 0.012764776810993106), ('std_sim_product', 0.011673584457273102), ('max_sim_product', 0.011222937445106879), ('std_sim_review', 0.010708780002832104), ('mean_sim', 0.010286597938303338), ('mean_sim_review', 0.00985916339673814), ('min_days_between_reviews', 0.003137579546846378)]\n",
      "==========SVC Linear==========\n",
      "AUC, Accuracy, TN, TP, F1 Score\n",
      "0.9204453441295546, 0.8543543543543544, 0.8921052631578947, 0.8041958041958042, 0.8538027110332664\n",
      "==========XGBoost==========\n",
      "AUC, Accuracy, TN, TP, F1 Score\n",
      "0.937523003312477, 0.8693693693693694, 0.9, 0.8286713286713286, 0.8690205426300642\n"
     ]
    }
   ],
   "source": [
    "# all features\n",
    "print(\"\\n+++++++++++++++++ All Features ++++++++++++++++\\n\")\n",
    "classification_results(df, review_features+image_sim_features+network_features)"
   ]
  },
  {
   "cell_type": "code",
   "execution_count": 19,
   "id": "d6d452cb-fc4c-48c7-aac0-02f89400897f",
   "metadata": {},
   "outputs": [
    {
     "name": "stdout",
     "output_type": "stream",
     "text": [
      "\n",
      "+++++++++++++++++ All Text ++++++++++++++++\n",
      "\n",
      "(2661, 1000) (666, 1000)\n",
      "==========Logistic Regression==========\n",
      "AUC, Accuracy, TN, TP, F1 Score\n",
      "0.7688627162311372, 0.7297297297297297, 0.7736842105263158, 0.6713286713286714, 0.7292205769599386\n",
      "==========Random Forest==========\n",
      "AUC, Accuracy, TN, TP, F1 Score\n",
      "0.8565145380934854, 0.7702702702702703, 0.9289473684210526, 0.5594405594405595, 0.759466996031958\n",
      "==========RF Feature Importance==========\n",
      "[('conveni', 0.01681284432258938), ('also', 0.01680816715803607), ('realli', 0.00917607628823779), ('qualiti good', 0.00879490249073717), ('realli good', 0.008786481897046845), ('satisfi', 0.008266776494747878), ('alway', 0.006266128192765259), ('great product', 0.006254260307400919), ('ship', 0.006049554270938087), ('describ', 0.005942054425909881), ('like much', 0.0055237877240866705), ('worri', 0.005492030033769896), ('howev', 0.005322275835306055), ('simpl', 0.005170545681156141), ('compani', 0.004887716481104342), ('work great', 0.004655225913381732), ('year', 0.004513179946075493), ('exactli', 0.004321163474307411), ('disappoint', 0.004277469573588835), ('recommend', 0.0042506582814668455), ('would', 0.004204375513494068), ('excel', 0.004152121259033395), ('easi', 0.004133166146342669), ('month', 0.004034605478536589), ('super', 0.003994220601769752), ('order', 0.003950981945984252), ('star', 0.0036252184842973855), ('happi', 0.003603126156861489), ('surpris', 0.0035814808577547624), ('make', 0.0035667097488766885), ('pretti', 0.0034385063258456205), ('review', 0.003342601412530883), ('christma', 0.003171890482179917), ('return', 0.003114474187722883), ('probabl', 0.003100958703371095), ('long time', 0.0030863900423744894), ('servic', 0.003084316632931599), ('thank', 0.0030531755729606923), ('amazon', 0.003041108915910533), ('beauti', 0.003040617409735013), ('friend', 0.002987190761532233), ('advertis', 0.0029706088860710577), ('video', 0.0029125895368110784), ('help', 0.002858959753092578), ('though', 0.0028413879069474836), ('still', 0.0028347827787886326), ('love', 0.0027882261466087377), ('long', 0.0027732353787382953), ('unfortun', 0.002750347661932995), ('realli like', 0.0027372579257410436)]\n",
      "==========SVC Linear==========\n",
      "AUC, Accuracy, TN, TP, F1 Score\n",
      "0.7485645933014353, 0.7072072072072072, 0.75, 0.6503496503496503, 0.7068730728861448\n",
      "==========XGBoost==========\n",
      "AUC, Accuracy, TN, TP, F1 Score\n",
      "0.8585066249539934, 0.7867867867867868, 0.8789473684210526, 0.6643356643356644, 0.7831560807295164\n"
     ]
    }
   ],
   "source": [
    "# all text features\n",
    "print(\"\\n+++++++++++++++++ All Text ++++++++++++++++\\n\")\n",
    "classification_results(df_text)"
   ]
  },
  {
   "cell_type": "code",
   "execution_count": null,
   "id": "2333f960-e66e-4803-8d21-82a5ebba471d",
   "metadata": {},
   "outputs": [],
   "source": []
  }
 ],
 "metadata": {
  "kernelspec": {
   "display_name": "Python 3 (ipykernel)",
   "language": "python",
   "name": "python3"
  },
  "language_info": {
   "codemirror_mode": {
    "name": "ipython",
    "version": 3
   },
   "file_extension": ".py",
   "mimetype": "text/x-python",
   "name": "python",
   "nbconvert_exporter": "python",
   "pygments_lexer": "ipython3",
   "version": "3.9.18"
  }
 },
 "nbformat": 4,
 "nbformat_minor": 5
}
